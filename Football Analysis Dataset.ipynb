{
 "cells": [
  {
   "cell_type": "markdown",
   "id": "c12122ce-4e4d-435f-a607-917370f3bd98",
   "metadata": {},
   "source": [
    "# FOOTBALL ANALYSIS DATASET CLEANING"
   ]
  },
  {
   "cell_type": "markdown",
   "id": "39c66855-42b9-4e88-b0ac-77041da772f4",
   "metadata": {},
   "source": [
    "## Project Description"
   ]
  },
  {
   "cell_type": "code",
   "execution_count": null,
   "id": "e490102f-a6ba-4b1a-a7d1-bcdc616d907b",
   "metadata": {},
   "outputs": [],
   "source": []
  }
 ],
 "metadata": {
  "kernelspec": {
   "display_name": "Python 3 (ipykernel)",
   "language": "python",
   "name": "python3"
  },
  "language_info": {
   "codemirror_mode": {
    "name": "ipython",
    "version": 3
   },
   "file_extension": ".py",
   "mimetype": "text/x-python",
   "name": "python",
   "nbconvert_exporter": "python",
   "pygments_lexer": "ipython3",
   "version": "3.11.3"
  }
 },
 "nbformat": 4,
 "nbformat_minor": 5
}
