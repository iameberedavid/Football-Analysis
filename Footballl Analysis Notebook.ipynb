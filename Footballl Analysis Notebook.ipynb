{
 "cells": [
  {
   "cell_type": "markdown",
   "id": "9ce12df7-7fe8-4c97-ae49-8ccd3ab459eb",
   "metadata": {},
   "source": [
    "# FOOTBALL ANALYSIS DATASET CLEANING"
   ]
  },
  {
   "cell_type": "markdown",
   "id": "9f4d7e95-f391-4c22-92b0-279c2868729a",
   "metadata": {},
   "source": [
    "# Project Description"
   ]
  },
  {
   "cell_type": "markdown",
   "id": "f0e66f8d-7703-43ea-8329-b2f7cac67cb9",
   "metadata": {},
   "source": [
    "# Exploratory Data Analysis"
   ]
  },
  {
   "cell_type": "code",
   "execution_count": null,
   "id": "ae73e7d3-43b1-4182-8e20-d75b9ea50cb4",
   "metadata": {},
   "outputs": [],
   "source": []
  }
 ],
 "metadata": {
  "kernelspec": {
   "display_name": "Python 3 (ipykernel)",
   "language": "python",
   "name": "python3"
  },
  "language_info": {
   "codemirror_mode": {
    "name": "ipython",
    "version": 3
   },
   "file_extension": ".py",
   "mimetype": "text/x-python",
   "name": "python",
   "nbconvert_exporter": "python",
   "pygments_lexer": "ipython3",
   "version": "3.11.3"
  }
 },
 "nbformat": 4,
 "nbformat_minor": 5
}
